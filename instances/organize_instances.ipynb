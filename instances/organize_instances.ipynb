{
 "cells": [
  {
   "cell_type": "markdown",
   "metadata": {},
   "source": [
    "This code renames files in folders"
   ]
  },
  {
   "cell_type": "code",
   "execution_count": 2,
   "metadata": {},
   "outputs": [],
   "source": [
    "import os\n",
    "import re"
   ]
  },
  {
   "cell_type": "code",
   "execution_count": 6,
   "metadata": {},
   "outputs": [
    {
     "name": "stdout",
     "output_type": "stream",
     "text": [
      "\u001b[0m\u001b[01;34m1000\u001b[0m/  \u001b[01;34m300\u001b[0m/  \u001b[01;34m500\u001b[0m/  \u001b[01;34m700\u001b[0m/  \u001b[01;34m800\u001b[0m/\n"
     ]
    }
   ],
   "source": [
    "ls scenario2/not_correlated_sc2/"
   ]
  },
  {
   "cell_type": "code",
   "execution_count": 7,
   "metadata": {},
   "outputs": [],
   "source": [
    "# Specify the directory\n",
    "base_dir = \"scenario2/not_correlated_sc2/\""
   ]
  },
  {
   "cell_type": "code",
   "execution_count": 8,
   "metadata": {},
   "outputs": [],
   "source": [
    "# Loop through all files in the directory\n",
    "for num_items in {300, 500, 700, 800, 1000}:\n",
    "    directory = base_dir + f\"/{num_items}\"\n",
    "    for filename in os.listdir(directory):\n",
    "        old_name = os.path.join(directory, filename)\n",
    "        match = re.search(r\"id_(\\d+)\", filename)\n",
    "        id_number = match.group(1)[-1]\n",
    "\n",
    "        if id_number == \"0\":\n",
    "            id_number = 10\n",
    "\n",
    "        new_name = os.path.join(directory, f\"kpfs_{id_number}.txt\")\n",
    "\n",
    "        # Rename the file\n",
    "        os.rename(old_name, new_name)"
   ]
  },
  {
   "cell_type": "code",
   "execution_count": null,
   "metadata": {},
   "outputs": [],
   "source": []
  }
 ],
 "metadata": {
  "kernelspec": {
   "display_name": "Python 3",
   "language": "python",
   "name": "python3"
  },
  "language_info": {
   "codemirror_mode": {
    "name": "ipython",
    "version": 3
   },
   "file_extension": ".py",
   "mimetype": "text/x-python",
   "name": "python",
   "nbconvert_exporter": "python",
   "pygments_lexer": "ipython3",
   "version": "3.10.12"
  }
 },
 "nbformat": 4,
 "nbformat_minor": 2
}
