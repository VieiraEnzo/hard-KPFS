{
 "cells": [
  {
   "cell_type": "code",
   "execution_count": 1,
   "metadata": {},
   "outputs": [],
   "source": [
    "import os\n",
    "import pandas as pd\n",
    "import re"
   ]
  },
  {
   "cell_type": "code",
   "execution_count": 2,
   "metadata": {},
   "outputs": [],
   "source": [
    "def extract_data_from_file(file_path):\n",
    "    with open(file_path, 'r') as file:\n",
    "        lines = file.readlines()\n",
    "        for line in lines:\n",
    "            if line.startswith(\"average cost:\"):\n",
    "                best_cost = float(line.split(\":\")[1].strip())\n",
    "            if line.startswith(\"average time:\"):\n",
    "                time = float(line.split(\":\")[1].strip())\n",
    "        return best_cost, time"
   ]
  },
  {
   "cell_type": "code",
   "execution_count": 3,
   "metadata": {},
   "outputs": [],
   "source": [
    "def numeric_key(file_name):\n",
    "    match = re.search(r'(\\d+)', file_name)\n",
    "    return int(match.group(1)) if match else float('inf')"
   ]
  },
  {
   "cell_type": "code",
   "execution_count": 4,
   "metadata": {},
   "outputs": [],
   "source": [
    "def create_dataframe_from_files(folder_path):\n",
    "    data = {\"Instance\": [], \"Best Cost\": [], \"Time\": []}\n",
    "\n",
    "    # List all files in the folder\n",
    "    files = [f for f in os.listdir(folder_path) if f.endswith(\".txt\")]\n",
    "\n",
    "    # Sort files based on the numeric part of the filename\n",
    "    files.sort(key=numeric_key)\n",
    "\n",
    "    for file_name in files:\n",
    "        file_path = os.path.join(folder_path, file_name)\n",
    "        best_cost, time = extract_data_from_file(file_path)\n",
    "        data[\"Instance\"].append(file_path)\n",
    "        data[\"Best Cost\"].append(best_cost)\n",
    "        data[\"Time\"].append(time)\n",
    "\n",
    "    # Create dataframe\n",
    "    df = pd.DataFrame(data)\n",
    "\n",
    "    df[\"Time\"] = df[\"Time\"].astype(str).str.replace(\".\", \",\")\n",
    "    df[\"Best Cost\"] = df[\"Best Cost\"].astype(str).str.replace(\".\", \",\")\n",
    "\n",
    "    return df"
   ]
  },
  {
   "cell_type": "code",
   "execution_count": 5,
   "metadata": {},
   "outputs": [
    {
     "name": "stdout",
     "output_type": "stream",
     "text": [
      "constructive.cpp  \u001b[0m\u001b[01;34minstances\u001b[0m/  main.o     read_results.ipynb  \u001b[01;32mrun\u001b[0m*     utils.hpp\n",
      "constructive.hpp  \u001b[01;32mmain\u001b[0m*       makefile   \u001b[01;34mresults\u001b[0m/            run.cpp\n",
      "constructive.o    main.cpp    README.md  \u001b[01;34mresults_caio\u001b[0m/       run.o\n"
     ]
    }
   ],
   "source": [
    "ls ."
   ]
  },
  {
   "cell_type": "code",
   "execution_count": 6,
   "metadata": {},
   "outputs": [],
   "source": [
    "instance_type = {\"correlated_sc1\", \"fully_correlated_sc1\", \"not_correlated_sc1\"}\n",
    "num_items = [\"300\",\"500\",\"700\",\"800\",\"1000\"]"
   ]
  },
  {
   "cell_type": "code",
   "execution_count": 7,
   "metadata": {},
   "outputs": [
    {
     "name": "stdout",
     "output_type": "stream",
     "text": [
      "reading... results/scenario1/correlated_sc1/300\n",
      "reading... results/scenario1/correlated_sc1/500\n",
      "reading... results/scenario1/correlated_sc1/700\n",
      "reading... results/scenario1/correlated_sc1/800\n",
      "reading... results/scenario1/correlated_sc1/1000\n",
      "reading... results/scenario1/fully_correlated_sc1/300\n",
      "reading... results/scenario1/fully_correlated_sc1/500\n",
      "reading... results/scenario1/fully_correlated_sc1/700\n",
      "reading... results/scenario1/fully_correlated_sc1/800\n",
      "reading... results/scenario1/fully_correlated_sc1/1000\n",
      "reading... results/scenario1/not_correlated_sc1/300\n",
      "reading... results/scenario1/not_correlated_sc1/500\n",
      "reading... results/scenario1/not_correlated_sc1/700\n",
      "reading... results/scenario1/not_correlated_sc1/800\n",
      "reading... results/scenario1/not_correlated_sc1/1000\n"
     ]
    }
   ],
   "source": [
    "df_total = pd.DataFrame()\n",
    "for i_type in instance_type:\n",
    "    for i in num_items:\n",
    "        folder_path = f\"results/scenario1/{i_type}/{i}\"\n",
    "        print(f\"reading... {folder_path}\")\n",
    "        df = create_dataframe_from_files(folder_path)\n",
    "        df_total = pd.concat([df_total, df], ignore_index=True)    "
   ]
  },
  {
   "cell_type": "code",
   "execution_count": 8,
   "metadata": {},
   "outputs": [
    {
     "name": "stdout",
     "output_type": "stream",
     "text": [
      "\u001b[0m\u001b[01;34m1000\u001b[0m/  \u001b[01;34m300\u001b[0m/  \u001b[01;34m500\u001b[0m/  \u001b[01;34m700\u001b[0m/  \u001b[01;34m800\u001b[0m/\n"
     ]
    }
   ],
   "source": [
    "ls results/scenario1/correlated_sc1/"
   ]
  },
  {
   "cell_type": "code",
   "execution_count": 9,
   "metadata": {},
   "outputs": [
    {
     "data": {
      "text/html": [
       "<div>\n",
       "<style scoped>\n",
       "    .dataframe tbody tr th:only-of-type {\n",
       "        vertical-align: middle;\n",
       "    }\n",
       "\n",
       "    .dataframe tbody tr th {\n",
       "        vertical-align: top;\n",
       "    }\n",
       "\n",
       "    .dataframe thead th {\n",
       "        text-align: right;\n",
       "    }\n",
       "</style>\n",
       "<table border=\"1\" class=\"dataframe\">\n",
       "  <thead>\n",
       "    <tr style=\"text-align: right;\">\n",
       "      <th></th>\n",
       "      <th>Instance</th>\n",
       "      <th>Best Cost</th>\n",
       "      <th>Time</th>\n",
       "    </tr>\n",
       "  </thead>\n",
       "  <tbody>\n",
       "    <tr>\n",
       "      <th>0</th>\n",
       "      <td>results/scenario1/correlated_sc1/300/result.txt</td>\n",
       "      <td>701,1</td>\n",
       "      <td>0,00200405</td>\n",
       "    </tr>\n",
       "    <tr>\n",
       "      <th>1</th>\n",
       "      <td>results/scenario1/correlated_sc1/500/result.txt</td>\n",
       "      <td>621,444</td>\n",
       "      <td>0,00456182</td>\n",
       "    </tr>\n",
       "    <tr>\n",
       "      <th>2</th>\n",
       "      <td>results/scenario1/correlated_sc1/700/result.txt</td>\n",
       "      <td>510,7</td>\n",
       "      <td>0,00573616</td>\n",
       "    </tr>\n",
       "    <tr>\n",
       "      <th>3</th>\n",
       "      <td>results/scenario1/correlated_sc1/800/result.txt</td>\n",
       "      <td>473,1</td>\n",
       "      <td>0,0067664</td>\n",
       "    </tr>\n",
       "    <tr>\n",
       "      <th>4</th>\n",
       "      <td>results/scenario1/correlated_sc1/1000/result.txt</td>\n",
       "      <td>425,4</td>\n",
       "      <td>0,00893093</td>\n",
       "    </tr>\n",
       "    <tr>\n",
       "      <th>5</th>\n",
       "      <td>results/scenario1/fully_correlated_sc1/300/res...</td>\n",
       "      <td>673,9</td>\n",
       "      <td>0,00200551</td>\n",
       "    </tr>\n",
       "    <tr>\n",
       "      <th>6</th>\n",
       "      <td>results/scenario1/fully_correlated_sc1/500/res...</td>\n",
       "      <td>637,3</td>\n",
       "      <td>0,00418945</td>\n",
       "    </tr>\n",
       "    <tr>\n",
       "      <th>7</th>\n",
       "      <td>results/scenario1/fully_correlated_sc1/700/res...</td>\n",
       "      <td>572,9</td>\n",
       "      <td>0,00646236</td>\n",
       "    </tr>\n",
       "    <tr>\n",
       "      <th>8</th>\n",
       "      <td>results/scenario1/fully_correlated_sc1/800/res...</td>\n",
       "      <td>513,6</td>\n",
       "      <td>0,00737463</td>\n",
       "    </tr>\n",
       "    <tr>\n",
       "      <th>9</th>\n",
       "      <td>results/scenario1/fully_correlated_sc1/1000/re...</td>\n",
       "      <td>473,1</td>\n",
       "      <td>0,0102066</td>\n",
       "    </tr>\n",
       "    <tr>\n",
       "      <th>10</th>\n",
       "      <td>results/scenario1/not_correlated_sc1/300/resul...</td>\n",
       "      <td>592,3</td>\n",
       "      <td>0,00193003</td>\n",
       "    </tr>\n",
       "    <tr>\n",
       "      <th>11</th>\n",
       "      <td>results/scenario1/not_correlated_sc1/500/resul...</td>\n",
       "      <td>471,7</td>\n",
       "      <td>0,00356661</td>\n",
       "    </tr>\n",
       "    <tr>\n",
       "      <th>12</th>\n",
       "      <td>results/scenario1/not_correlated_sc1/700/resul...</td>\n",
       "      <td>367,9</td>\n",
       "      <td>0,00469911</td>\n",
       "    </tr>\n",
       "    <tr>\n",
       "      <th>13</th>\n",
       "      <td>results/scenario1/not_correlated_sc1/800/resul...</td>\n",
       "      <td>369,1</td>\n",
       "      <td>0,00567858</td>\n",
       "    </tr>\n",
       "    <tr>\n",
       "      <th>14</th>\n",
       "      <td>results/scenario1/not_correlated_sc1/1000/resu...</td>\n",
       "      <td>301,0</td>\n",
       "      <td>0,0065846</td>\n",
       "    </tr>\n",
       "  </tbody>\n",
       "</table>\n",
       "</div>"
      ],
      "text/plain": [
       "                                             Instance Best Cost        Time\n",
       "0     results/scenario1/correlated_sc1/300/result.txt     701,1  0,00200405\n",
       "1     results/scenario1/correlated_sc1/500/result.txt   621,444  0,00456182\n",
       "2     results/scenario1/correlated_sc1/700/result.txt     510,7  0,00573616\n",
       "3     results/scenario1/correlated_sc1/800/result.txt     473,1   0,0067664\n",
       "4    results/scenario1/correlated_sc1/1000/result.txt     425,4  0,00893093\n",
       "5   results/scenario1/fully_correlated_sc1/300/res...     673,9  0,00200551\n",
       "6   results/scenario1/fully_correlated_sc1/500/res...     637,3  0,00418945\n",
       "7   results/scenario1/fully_correlated_sc1/700/res...     572,9  0,00646236\n",
       "8   results/scenario1/fully_correlated_sc1/800/res...     513,6  0,00737463\n",
       "9   results/scenario1/fully_correlated_sc1/1000/re...     473,1   0,0102066\n",
       "10  results/scenario1/not_correlated_sc1/300/resul...     592,3  0,00193003\n",
       "11  results/scenario1/not_correlated_sc1/500/resul...     471,7  0,00356661\n",
       "12  results/scenario1/not_correlated_sc1/700/resul...     367,9  0,00469911\n",
       "13  results/scenario1/not_correlated_sc1/800/resul...     369,1  0,00567858\n",
       "14  results/scenario1/not_correlated_sc1/1000/resu...     301,0   0,0065846"
      ]
     },
     "execution_count": 9,
     "metadata": {},
     "output_type": "execute_result"
    }
   ],
   "source": [
    "df_total"
   ]
  },
  {
   "cell_type": "code",
   "execution_count": 10,
   "metadata": {},
   "outputs": [],
   "source": [
    "df_total.to_csv(\"results/scenario1/consolidado.csv\")"
   ]
  },
  {
   "cell_type": "code",
   "execution_count": null,
   "metadata": {},
   "outputs": [],
   "source": []
  }
 ],
 "metadata": {
  "kernelspec": {
   "display_name": "Python 3",
   "language": "python",
   "name": "python3"
  },
  "language_info": {
   "codemirror_mode": {
    "name": "ipython",
    "version": 3
   },
   "file_extension": ".py",
   "mimetype": "text/x-python",
   "name": "python",
   "nbconvert_exporter": "python",
   "pygments_lexer": "ipython3",
   "version": "3.10.12"
  }
 },
 "nbformat": 4,
 "nbformat_minor": 2
}
